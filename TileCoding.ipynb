{
 "cells": [
  {
   "cell_type": "code",
   "execution_count": null,
   "id": "62d79177-a621-4af0-b3cf-69ddd6c82e68",
   "metadata": {},
   "outputs": [],
   "source": [
    "import random\n",
    "import gym\n",
    "import numpy as np\n",
    "from tqdm import tqdm\n",
    "\n",
    "from envs import Maze\n",
    "from utils import plot_policy, plot_tabular_cost_to_go, test_agent, plot_stats, seed_everything"
   ]
  },
  {
   "cell_type": "code",
   "execution_count": null,
   "id": "b9c154b0-2116-4532-aa07-57fc26f1dd7f",
   "metadata": {},
   "outputs": [],
   "source": [
    "env = gym.make('MountainCar-v0')\n",
    "seed_everything(env)"
   ]
  },
  {
   "cell_type": "code",
   "execution_count": null,
   "id": "9bd71777-5faf-4c22-b2bc-580bcde021bf",
   "metadata": {},
   "outputs": [],
   "source": [
    "class TileCodingEnv(gym.ObservationWrapper):\n",
    "    \n",
    "    def __init__(self, env, bins, low, high, n=4):\n",
    "        super().__init__(env)\n",
    "        self.tilings = self._create_tilings(bins, high, low, n)\n",
    "        self.observation_space = gym.spaces.MultiDiscrete(nvec=bins.tolist() * n)\n",
    "    \n",
    "    def observation(self, state):\n",
    "        indices = []\n",
    "        for t in self.tilings:\n",
    "            tiling_indices = tuple(np.digitize(i, b) for i,b in zip(state,t))\n",
    "            indices.append(tiling_indices)\n",
    "        return indices\n",
    "    \n",
    "    def _create_tilings(self, bins, high, low, n):\n",
    "        displacement_vector = np.arange(1, 2*len(bins),2)\n",
    "        tilings = []\n",
    "        for i in range(1, n + 1):\n",
    "            low_i = low - random.random() * .2 * low\n",
    "            high_i = high + random.random() * .2 * high\n",
    "            segment_sizes = (high_i - low_i) / bins\n",
    "            displacements = displacement_vector * i % n\n",
    "            displacements = displacements * (segment_sizes / n)\n",
    "            low_i += displacements\n",
    "            high_i += displacements\n",
    "            buckets_i = [np.linspace(l,h,b-1) for l, h, b in zip(low_i, high_i, bins)]\n",
    "            tilings.append(buckets_i)\n",
    "        return tilings"
   ]
  },
  {
   "cell_type": "code",
   "execution_count": null,
   "id": "25a3b055-8597-41e1-b099-3a81baf0fd11",
   "metadata": {},
   "outputs": [],
   "source": [
    "tilings = 4\n",
    "bins = np.array([20, 20])\n",
    "low = env.observation_space.low\n",
    "high = env.observation_space.high\n",
    "tcenv = TileCodingEnv(env, bins=bins, low=low, high=high, n=tilings)"
   ]
  },
  {
   "cell_type": "code",
   "execution_count": null,
   "id": "111bc95f-a4bb-426b-9616-60a53b76dc37",
   "metadata": {},
   "outputs": [],
   "source": [
    "print(f\"Modified observation space: {tcenv.observation_space}, \\n\\\n",
    "Sample state: {tcenv.reset()}\")"
   ]
  },
  {
   "cell_type": "code",
   "execution_count": null,
   "id": "5511ac0d-d29e-4410-94c1-14dbd4b4d2e5",
   "metadata": {},
   "outputs": [],
   "source": [
    "for s in tcenv.reset():\n",
    "    print(s)"
   ]
  },
  {
   "cell_type": "code",
   "execution_count": null,
   "id": "59f47283-112d-4379-9adb-f3d61e9ef18b",
   "metadata": {},
   "outputs": [],
   "source": [
    "print(f\"Original observation space: {env.observation_space}, \\n\\\n",
    "Sample state: {env.reset()}\")"
   ]
  },
  {
   "cell_type": "code",
   "execution_count": null,
   "id": "b07c26cf-92a1-45c4-aeed-6441ab3b1b1e",
   "metadata": {},
   "outputs": [],
   "source": [
    "tcenv.observation_space.sample()"
   ]
  },
  {
   "cell_type": "code",
   "execution_count": null,
   "id": "ae77b32b-0ede-4d9a-b72d-1d5aa522f405",
   "metadata": {},
   "outputs": [],
   "source": [
    "env.observation_space.sample()"
   ]
  },
  {
   "cell_type": "code",
   "execution_count": null,
   "id": "bf26cd29-452f-46d2-8a96-234797a193b8",
   "metadata": {},
   "outputs": [],
   "source": [
    "action_values = np.zeros([4,20,20,3])"
   ]
  },
  {
   "cell_type": "code",
   "execution_count": null,
   "id": "591d3c21-bb59-4119-ba61-085053b0cc81",
   "metadata": {},
   "outputs": [],
   "source": [
    "def policy(state, epsilon=0.):\n",
    "    if np.random.random() < epsilon:\n",
    "        return np.random.randint(3)\n",
    "    else:\n",
    "        av_list = []\n",
    "        for i, idx in enumerate(state):\n",
    "            print(f\"i = {i}, idx = {idx}\")\n",
    "            av = action_values[i][idx]\n",
    "            av_list.append(av)\n",
    "        \n",
    "        av = np.mean(av_list, axis=0)\n",
    "        return np.random.choice(np.flatnonzero(av == av.max()))"
   ]
  },
  {
   "cell_type": "code",
   "execution_count": null,
   "id": "d2601cd7-ce43-4f0e-8e96-89369e92c635",
   "metadata": {},
   "outputs": [],
   "source": [
    "def sarsa(action_values, poilcy, episodes,alpha=0.1,gamma=0.99, epsilon=0.2):\n",
    "    stats = {\"Returns\": []}\n",
    "    for episode in tqdm(range(1,episodes+1)):\n",
    "        state = tcenv.reset()\n",
    "        action = policy(state, epsilon)\n",
    "        done = False\n",
    "        ep_return = 0\n",
    "        while not done:\n",
    "            next_state, reward, done, _ = tcenv.step(action)\n",
    "            next_action = policy(next_state, epsilon)\n",
    "            \n",
    "            for i, (idx, next_idx) in enumerate(zip(state, next_state)):\n",
    "                qsa = action_values[i][idx][action]\n",
    "                next_qsa = action_values[i][next_idx][next_action]\n",
    "                action_values[i][idx][action] = qsa + alpha * (reward + gamma * next_qsa - qsa)\n",
    "            \n",
    "            state = next_state\n",
    "            action = next_action\n",
    "            ep_return += reward\n",
    "        stats['Returns'].append(ep_return)\n",
    "    return stats"
   ]
  },
  {
   "cell_type": "code",
   "execution_count": null,
   "id": "e2dcb641-aae0-442b-aa55-59e3da647ff7",
   "metadata": {},
   "outputs": [],
   "source": [
    "stats = sarsa(action_values, policy, 20000, alpha=0.1, epsilon=0.)"
   ]
  },
  {
   "cell_type": "code",
   "execution_count": null,
   "id": "7daa2784-438b-427a-ad3c-7b3d5a50ba96",
   "metadata": {},
   "outputs": [],
   "source": [
    "plot_stats(stats)"
   ]
  },
  {
   "cell_type": "code",
   "execution_count": null,
   "id": "b6806442-7c47-4829-ad5f-b2ef3a06ec52",
   "metadata": {},
   "outputs": [],
   "source": [
    "plot_policy(action_values.mean(axis=0), env.render(mode='rgb_array'), \\\n",
    "            action_meanings={0: 'B', 1: 'N', 2: 'F'})"
   ]
  },
  {
   "cell_type": "code",
   "execution_count": null,
   "id": "3815ae74-96cd-442f-a5c7-1293e541ba44",
   "metadata": {},
   "outputs": [],
   "source": [
    "plot_tabular_cost_to_go(action_values.mean(axis=0), \\\n",
    "                        xlabel=\"Car Position\", ylabel=\"Velocity\")"
   ]
  },
  {
   "cell_type": "code",
   "execution_count": null,
   "id": "617fade5-2943-41be-9cfb-6b3baef09248",
   "metadata": {},
   "outputs": [],
   "source": [
    "test_agent(tcenv, policy, 2)"
   ]
  },
  {
   "cell_type": "code",
   "execution_count": null,
   "id": "4b97e78a-8929-4275-9931-4f742ce8ff88",
   "metadata": {},
   "outputs": [],
   "source": [
    "action_values[1][(3,3)]"
   ]
  },
  {
   "cell_type": "code",
   "execution_count": null,
   "id": "27de3725-f9f3-40f0-9f0e-07e52ef6822f",
   "metadata": {},
   "outputs": [],
   "source": [
    "action_values[1][3][3]"
   ]
  },
  {
   "cell_type": "code",
   "execution_count": null,
   "id": "4b8337e9-d390-4652-9a86-f616fd84743b",
   "metadata": {},
   "outputs": [],
   "source": []
  }
 ],
 "metadata": {
  "kernelspec": {
   "display_name": "Python 3 (ipykernel)",
   "language": "python",
   "name": "python3"
  },
  "language_info": {
   "codemirror_mode": {
    "name": "ipython",
    "version": 3
   },
   "file_extension": ".py",
   "mimetype": "text/x-python",
   "name": "python",
   "nbconvert_exporter": "python",
   "pygments_lexer": "ipython3",
   "version": "3.9.15"
  }
 },
 "nbformat": 4,
 "nbformat_minor": 5
}
